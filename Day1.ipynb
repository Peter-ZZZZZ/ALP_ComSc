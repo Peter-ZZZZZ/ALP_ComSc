{
  "nbformat": 4,
  "nbformat_minor": 0,
  "metadata": {
    "colab": {
      "provenance": [],
      "authorship_tag": "ABX9TyO/DErQCMtHulkVCzvs8Mi8",
      "include_colab_link": true
    },
    "kernelspec": {
      "name": "python3",
      "display_name": "Python 3"
    },
    "language_info": {
      "name": "python"
    }
  },
  "cells": [
    {
      "cell_type": "markdown",
      "metadata": {
        "id": "view-in-github",
        "colab_type": "text"
      },
      "source": [
        "<a href=\"https://colab.research.google.com/github/Peter-ZZZZZ/ALP_ComSc/blob/main/Day1.ipynb\" target=\"_parent\"><img src=\"https://colab.research.google.com/assets/colab-badge.svg\" alt=\"Open In Colab\"/></a>"
      ]
    },
    {
      "cell_type": "markdown",
      "source": [
        "#Task1"
      ],
      "metadata": {
        "id": "XNOls0w2PobA"
      }
    },
    {
      "cell_type": "code",
      "execution_count": null,
      "metadata": {
        "colab": {
          "base_uri": "https://localhost:8080/"
        },
        "id": "SO3Rg1YAJ0Vn",
        "outputId": "571188cc-d724-4475-bc87-42c5b070e92a"
      },
      "outputs": [
        {
          "output_type": "stream",
          "name": "stdout",
          "text": [
            "Hello World!\n"
          ]
        }
      ],
      "source": [
        "print(\"Hello World!\")\n",
        "# Task Investigate"
      ]
    },
    {
      "cell_type": "markdown",
      "source": [
        "#Task 2"
      ],
      "metadata": {
        "id": "YtiTzA0xPwR1"
      }
    },
    {
      "cell_type": "code",
      "source": [
        "print(\"What's orange and sounds like a parrot\")\n",
        "print(\"\")\n",
        "print(\"A carrot!\")"
      ],
      "metadata": {
        "colab": {
          "base_uri": "https://localhost:8080/"
        },
        "id": "81tKIpk_J_Ci",
        "outputId": "73cbcdb1-c026-452b-f3c9-8604bcc090b4"
      },
      "execution_count": null,
      "outputs": [
        {
          "output_type": "stream",
          "name": "stdout",
          "text": [
            "What's orange and sounds like a parrot?\t\tA carrot!\n"
          ]
        }
      ]
    },
    {
      "cell_type": "code",
      "source": [
        "favColor = \"blue\"\n",
        "print(\"My favorite color is \"+ favColor)#My favorite color is blue"
      ],
      "metadata": {
        "colab": {
          "base_uri": "https://localhost:8080/"
        },
        "id": "ii5R93a_Lx7N",
        "outputId": "3eed2f8f-8c14-4bac-d7af-f6d0fab3e5b3"
      },
      "execution_count": null,
      "outputs": [
        {
          "output_type": "stream",
          "name": "stdout",
          "text": [
            "My favorite color is blue\n"
          ]
        }
      ]
    },
    {
      "cell_type": "markdown",
      "source": [
        "#Task 3"
      ],
      "metadata": {
        "id": "zN-9BnVkPygy"
      }
    },
    {
      "cell_type": "code",
      "source": [
        "name1 = \"Axl\"\n",
        "name2 = \"Slash\"\n",
        "name3 = \"Duff\"\n",
        "name4 = \"Izzy\"\n",
        "print(name1 + \" and \" + name2 + \" and \"+ name3 + \" and \" + name4)"
      ],
      "metadata": {
        "colab": {
          "base_uri": "https://localhost:8080/"
        },
        "id": "qaAz8VbUOBuP",
        "outputId": "fddc5b0c-3c3a-46dc-dd0c-a00d3c4c69c5"
      },
      "execution_count": null,
      "outputs": [
        {
          "output_type": "stream",
          "name": "stdout",
          "text": [
            "Axl and Slash and Duff and Izzy\n"
          ]
        }
      ]
    },
    {
      "cell_type": "markdown",
      "source": [
        "#Task 4"
      ],
      "metadata": {
        "id": "2IFQrpQqP0wB"
      }
    },
    {
      "cell_type": "code",
      "source": [
        "foodFav2 = \"hotpot\"\n",
        "foodFav1 = \"sushi\"\n",
        "print(\"My favorite foods are \" + foodFav1 + \"and \" + foodFav2 +\".\")"
      ],
      "metadata": {
        "colab": {
          "base_uri": "https://localhost:8080/"
        },
        "id": "CJCiTo9eO2He",
        "outputId": "0e9cd093-a5b7-4740-aea0-a1c0d52e9696"
      },
      "execution_count": null,
      "outputs": [
        {
          "output_type": "stream",
          "name": "stdout",
          "text": [
            "My favorite foods are sushiand hotpot.\n"
          ]
        }
      ]
    },
    {
      "cell_type": "markdown",
      "source": [
        "#Input"
      ],
      "metadata": {
        "id": "OmnGF-Q_RR2I"
      }
    },
    {
      "cell_type": "markdown",
      "source": [
        "Task 1"
      ],
      "metadata": {
        "id": "4EVZ3NbKRoI7"
      }
    },
    {
      "cell_type": "code",
      "source": [
        "print(\"What's your name?\")\n",
        "name1 = input()\n",
        "print(\"Hi, my name is \" + name1 + \"! How are you today?\")"
      ],
      "metadata": {
        "colab": {
          "base_uri": "https://localhost:8080/"
        },
        "id": "4RNRvMFcQ9dP",
        "outputId": "803b9f19-2d08-4a9f-d08b-f4b869e6f563"
      },
      "execution_count": null,
      "outputs": [
        {
          "output_type": "stream",
          "name": "stdout",
          "text": [
            "What's your name?\n",
            "Peter\n",
            "Hi, my name is Peter! How are you today?\n"
          ]
        }
      ]
    },
    {
      "cell_type": "markdown",
      "source": [
        "Task 2"
      ],
      "metadata": {
        "id": "KomYgJ7wSE0a"
      }
    },
    {
      "cell_type": "code",
      "source": [
        "name1 = input(\"May you tell us your name?\")\n",
        "print(\"Oh! Nice to meet you \" + name1 + \"!\")"
      ],
      "metadata": {
        "colab": {
          "base_uri": "https://localhost:8080/"
        },
        "id": "juQBd3biRylB",
        "outputId": "88d45c7c-6d14-4bd0-86e1-caee0c496464"
      },
      "execution_count": null,
      "outputs": [
        {
          "output_type": "stream",
          "name": "stdout",
          "text": [
            "May you tell us your name?Peter\n",
            "Oh! Nice to meet you Peter!\n"
          ]
        }
      ]
    },
    {
      "cell_type": "code",
      "source": [],
      "metadata": {
        "id": "uXhxhtliSnJ1"
      },
      "execution_count": null,
      "outputs": []
    },
    {
      "cell_type": "markdown",
      "source": [
        "#ChatBot"
      ],
      "metadata": {
        "id": "OCdnp4xcUoeV"
      }
    },
    {
      "cell_type": "code",
      "source": [
        "userName = input(\"Hi what's your name\")\n",
        "print(\"Hello \" + userName + \", nice to meet you\")\n",
        "print(\"Here are few questions I had for you, please answer them!\")\n",
        "favFood = input(\"What's your favorite food?\")\n",
        "print(\"\")\n",
        "sport1 = input(\"What sport you like the best?\")\n",
        "print(\"\")\n",
        "dayB = input(\"Do you have a good day?\")\n",
        "print(\"\")\n",
        "print(\"Well, \" + userName + \" nice to know that you like \" + favFood + \" and \" + sport1 + \", and wish you have a better day tomorrow!\")\n"
      ],
      "metadata": {
        "id": "huqccI6-mllc",
        "colab": {
          "base_uri": "https://localhost:8080/"
        },
        "outputId": "80154f8a-d6e9-47be-85b8-3ec04785310a"
      },
      "execution_count": null,
      "outputs": [
        {
          "output_type": "stream",
          "name": "stdout",
          "text": [
            "Hi what's your namePeter\n",
            "Hello Peter, nice to meet you\n",
            "Here are few questions I had for you, please answer them!\n",
            "What's your favorite food?sushi\n",
            "\n",
            "What sport you like the best?Basketball\n",
            "\n",
            "Do you have a good day?NO\n",
            "\n",
            "Well, Peter nice to know that you like sushi and Basketball, and wish you have a better day tomorrow!\n"
          ]
        }
      ]
    },
    {
      "cell_type": "markdown",
      "source": [
        "#Programming operator"
      ],
      "metadata": {
        "id": "Gt5FUSCxs8iy"
      }
    },
    {
      "cell_type": "markdown",
      "source": [
        "Task1"
      ],
      "metadata": {
        "id": "bcyOk0RIt3TQ"
      }
    },
    {
      "cell_type": "code",
      "source": [
        "print(8+2)#10\n",
        "print(8-2)#6\n",
        "print(8*2)#16\n",
        "print(8/2)#4.0\n",
        "print(8//2)#4"
      ],
      "metadata": {
        "colab": {
          "base_uri": "https://localhost:8080/"
        },
        "id": "5zj-f0Iqowfh",
        "outputId": "c89966d1-370d-42c4-8901-9f846a63b1d0"
      },
      "execution_count": null,
      "outputs": [
        {
          "output_type": "stream",
          "name": "stdout",
          "text": [
            "10\n",
            "6\n",
            "16\n",
            "4.0\n",
            "4\n"
          ]
        }
      ]
    },
    {
      "cell_type": "code",
      "source": [],
      "metadata": {
        "id": "C2ElwOCjtGDH"
      },
      "execution_count": null,
      "outputs": []
    },
    {
      "cell_type": "markdown",
      "source": [
        "Task2"
      ],
      "metadata": {
        "id": "yIlvOMpxt428"
      }
    },
    {
      "cell_type": "code",
      "source": [
        "score = 0\n",
        "print(score)\n",
        "score += 1\n",
        "print(score)"
      ],
      "metadata": {
        "colab": {
          "base_uri": "https://localhost:8080/"
        },
        "id": "JL4c6DtXt5_X",
        "outputId": "211666d6-ef99-42fe-c976-9f9220b9b586"
      },
      "execution_count": null,
      "outputs": [
        {
          "output_type": "stream",
          "name": "stdout",
          "text": [
            "0\n",
            "1\n"
          ]
        }
      ]
    },
    {
      "cell_type": "markdown",
      "source": [
        "Task3"
      ],
      "metadata": {
        "id": "YENDOrMdvdRA"
      }
    },
    {
      "cell_type": "code",
      "source": [
        "num1 = int(input(\"Enter a number\"))"
      ],
      "metadata": {
        "colab": {
          "base_uri": "https://localhost:8080/"
        },
        "id": "IMiOK95vvcal",
        "outputId": "be376f9d-b797-4417-b5dc-a206e89cb15c"
      },
      "execution_count": null,
      "outputs": [
        {
          "name": "stdout",
          "output_type": "stream",
          "text": [
            "Enter a number26546\n"
          ]
        }
      ]
    },
    {
      "cell_type": "markdown",
      "source": [
        "Task4"
      ],
      "metadata": {
        "id": "91fZ9IaFwMjk"
      }
    },
    {
      "cell_type": "code",
      "source": [
        "print(\"Here's a rectangle calculator for area\")\n",
        "num1 = int(input(\"Enter the width \"))\n",
        "num2 = int(input(\"Enter the lenght \"))\n",
        "num3 = str(num1 * num2)\n",
        "print(\"Area for the rectangle is \" + num3)"
      ],
      "metadata": {
        "colab": {
          "base_uri": "https://localhost:8080/"
        },
        "id": "AMBIw7EvwN_g",
        "outputId": "d50cad9c-80b4-4acc-dd77-6902b5ff5452"
      },
      "execution_count": null,
      "outputs": [
        {
          "output_type": "stream",
          "name": "stdout",
          "text": [
            "Here's a rectangle calculator\n",
            "Enter the width 234\n",
            "Enter the lenght 2345\n",
            "Area for the rectangle is 548730\n"
          ]
        }
      ]
    },
    {
      "cell_type": "markdown",
      "source": [
        "Extra credit"
      ],
      "metadata": {
        "id": "QItdjor2yfs9"
      }
    },
    {
      "cell_type": "code",
      "source": [
        "print(\"Here's a rectangle calculator for perimeter\")\n",
        "num1 = int(input(\"Enter the width \"))\n",
        "num2 = int(input(\"Enter the lenght \"))\n",
        "num3 = str(2*num1 + 2*num2)\n",
        "print(\"Perimeter of the rectangle is \" + num3 + \".\")\n",
        "print(\"\")\n",
        "print(\"Here's a tip calculator\")\n",
        "price = int(input(\"Enter the price of the meal \"))\n",
        "tax = int(price * 0.2)\n",
        "tax1 = str(tax)\n",
        "total = str(int(price * 0.2) + price)\n",
        "print(\"The tax is $\" + tax1 +\" with the tax the total is $\" + total + \".\")\n",
        "print(\"\")\n",
        "print(\"Here's a Volume and Surface calculator\")\n",
        "num4 = int(input(\"Enter the width \"))\n",
        "num5 = int(input(\"Enter the lenght \"))\n",
        "num6 = int(input(\"Enter the height \"))\n",
        "volume = str(num4 * num5 * num6)\n",
        "ss = str(2*int(num4*num5)+2*int(num4*num6)+3*int(num5*6))\n",
        "print(\"The volume of the cuboid is \" + volume + \" with a surface area of \" + ss + \".\")\n"
      ],
      "metadata": {
        "colab": {
          "base_uri": "https://localhost:8080/"
        },
        "id": "WlPDdjQvwnGv",
        "outputId": "de514e24-1972-4848-9815-089996c9e111"
      },
      "execution_count": null,
      "outputs": [
        {
          "output_type": "stream",
          "name": "stdout",
          "text": [
            "Here's a rectangle calculator for perimeter\n",
            "Enter the width 2\n",
            "Enter the lenght 2\n",
            "Perimeter of the rectangle is 8.\n",
            "\n",
            "Here's a tip calculator\n",
            "Enter the price of the meal 234\n",
            "The tax is $46 with the tax the total is $280.\n",
            "\n",
            "Here's a Volume and Surface calculator\n",
            "Enter the width 2\n",
            "Enter the lenght 2\n",
            "Enter the height 2\n",
            "The volume of the cuboid is 8 with a surface area of 52.\n"
          ]
        }
      ]
    },
    {
      "cell_type": "markdown",
      "source": [
        "If practice"
      ],
      "metadata": {
        "id": "Z7YxCyfx5Yjf"
      }
    },
    {
      "cell_type": "code",
      "source": [
        "num = 100\n",
        "num2 =50\n",
        "if num > num2:\n",
        "  print(\"num1 is bigger than num2\")\n",
        "else:\n",
        "  print(\"num1 is not bigger than num2\")"
      ],
      "metadata": {
        "colab": {
          "base_uri": "https://localhost:8080/"
        },
        "id": "BG03Uly41DoW",
        "outputId": "24d732d1-f080-4600-9854-69f465947b0d"
      },
      "execution_count": null,
      "outputs": [
        {
          "output_type": "stream",
          "name": "stdout",
          "text": [
            "num1 is not bigger than num2\n"
          ]
        }
      ]
    },
    {
      "cell_type": "markdown",
      "source": [
        "Task3"
      ],
      "metadata": {
        "id": "k_vWGUaP7o9t"
      }
    },
    {
      "cell_type": "code",
      "source": [
        "password = 1337\n",
        "num1 = input(\"Please guess the password \")\n",
        "if num1 == password:\n",
        "  print(\"Password correct\")\n",
        "else:\n",
        "  print(\"Password incorrect\")"
      ],
      "metadata": {
        "colab": {
          "base_uri": "https://localhost:8080/"
        },
        "id": "nFI_kma15q7r",
        "outputId": "9d8e135e-24e2-4ca2-aebb-893559d62281"
      },
      "execution_count": null,
      "outputs": [
        {
          "output_type": "stream",
          "name": "stdout",
          "text": [
            "Please guess the password 1222\n",
            "Password incorrect\n"
          ]
        }
      ]
    },
    {
      "cell_type": "markdown",
      "source": [
        "Task4"
      ],
      "metadata": {
        "id": "05f98L298PNY"
      }
    },
    {
      "cell_type": "code",
      "source": [
        "num1 = input(\"Please input a random real number \")\n",
        "num2 = input(\"Please input another random real number \")\n",
        "if num1 == num2:\n",
        "  print(\"They are the same!\")\n",
        "else:\n",
        "  if num1 > num2:\n",
        "    print(\"Num1 is bigger\")\n",
        "  else:\n",
        "    print(\"Num2 is bigger\")"
      ],
      "metadata": {
        "colab": {
          "base_uri": "https://localhost:8080/"
        },
        "id": "zu6KVbaY8LtH",
        "outputId": "3cddd3f5-4759-41c5-c740-472116376a94"
      },
      "execution_count": null,
      "outputs": [
        {
          "output_type": "stream",
          "name": "stdout",
          "text": [
            "Please input a random real number 4\n",
            "Please input another random real number 4\n",
            "They are the same!\n"
          ]
        }
      ]
    },
    {
      "cell_type": "markdown",
      "source": [
        "elif"
      ],
      "metadata": {
        "id": "Cm625talHmx0"
      }
    },
    {
      "cell_type": "code",
      "source": [
        "name = input(\"Nice to meet you, what's your name? \")\n",
        "subject1 = input(\"Hi!, \" + name + \"what subject are you studying? \")\n",
        "if subject1 == \"math\":\n",
        "  print(name + \", Math is in 517\")\n",
        "elif subject1 == \"english\":\n",
        "  print(name + \", English is in 513\")\n",
        "elif subject1 == \"history\":\n",
        "  print(name + \", History is in 522\")\n",
        "else:\n",
        "  print(\"Sorry \" + name + \", I don't know where's the classroom for \" + subject1 + \".\")"
      ],
      "metadata": {
        "colab": {
          "base_uri": "https://localhost:8080/"
        },
        "id": "nuphMOLk9IVb",
        "outputId": "6aec0349-c55b-4931-91d1-4082316e47cb"
      },
      "execution_count": null,
      "outputs": [
        {
          "output_type": "stream",
          "name": "stdout",
          "text": [
            "Nice to meet you, what's your name? thompson\n",
            "Hi!, thompsonwhat subject are you studying? English\n",
            "Sorry thompson, I don't know where's the classroom for English.\n"
          ]
        }
      ]
    },
    {
      "cell_type": "markdown",
      "source": [
        "Extra challenge"
      ],
      "metadata": {
        "id": "ubVUv7I_KuVm"
      }
    },
    {
      "cell_type": "code",
      "source": [
        "name = input(\"Hi, what's your name?\")\n",
        "num = input(\" Nice to meet you \" + name + \", please give me a number from 1 to 5.\")\n",
        "if num == \"1\":\n",
        "  print(name + \", you must be a pretty nice friend to be with!\")\n",
        "elif num == \"2\":\n",
        "  print(name + \", you must have a great day today!\")\n",
        "elif num == \"3\":\n",
        "  print(name + \", you must have a good dinner!\")\n",
        "elif num == \"4\":\n",
        "  print(name + \", you must have a great friend!\")\n",
        "elif num == \"5\":\n",
        "  print(name + \", you will recieve a suprise today!\")\n",
        "else:\n",
        "  print(name + \", you didn't give a number from 1 to 5\")"
      ],
      "metadata": {
        "colab": {
          "base_uri": "https://localhost:8080/"
        },
        "id": "YJfDhf7iIdJk",
        "outputId": "c7293c06-5be6-40cb-d083-6e0fa67e40e0"
      },
      "execution_count": null,
      "outputs": [
        {
          "output_type": "stream",
          "name": "stdout",
          "text": [
            "Hi, what's your name?6\n",
            " Nice to meet you 6, please give me a number from 1 to 5.6\n",
            "6, you didn't give a number from 1 to 5\n"
          ]
        }
      ]
    },
    {
      "cell_type": "markdown",
      "source": [
        "Task 3"
      ],
      "metadata": {
        "id": "nAirmiM7NZuG"
      }
    },
    {
      "cell_type": "code",
      "source": [
        "ans = \"13\"\n",
        "num = input(\"Guess a number from 1 to 100! \")\n",
        "while ans != num:\n",
        "  print(\"You're wrong, guess again!\")\n",
        "  num = input(\"Guess a number from 1 to 100! \")\n",
        "\n",
        "print(\"You got it!\")"
      ],
      "metadata": {
        "colab": {
          "base_uri": "https://localhost:8080/"
        },
        "id": "ZclcMAzfOECd",
        "outputId": "13130199-1913-4f24-f297-7a0a711189ed"
      },
      "execution_count": null,
      "outputs": [
        {
          "output_type": "stream",
          "name": "stdout",
          "text": [
            "Guess a number from 1 to 100! 14\n",
            "You're wrong, guess again!\n",
            "Guess a number from 1 to 100! 15\n",
            "You're wrong, guess again!\n",
            "Guess a number from 1 to 100! 12\n",
            "You're wrong, guess again!\n",
            "Guess a number from 1 to 100! 234235\n",
            "You're wrong, guess again!\n",
            "Guess a number from 1 to 100! 13\n",
            "You got it!\n"
          ]
        }
      ]
    },
    {
      "cell_type": "code",
      "source": [
        "num = int(1)\n",
        "\n",
        "while num <= 12:\n",
        "  print(num*7)\n",
        "  num += 1\n",
        "\n",
        "print(\"The loop ended\")"
      ],
      "metadata": {
        "colab": {
          "base_uri": "https://localhost:8080/"
        },
        "id": "-ti007ppOtO5",
        "outputId": "4771a50f-a161-4d27-9537-30df13b06c37"
      },
      "execution_count": null,
      "outputs": [
        {
          "output_type": "stream",
          "name": "stdout",
          "text": [
            "7\n",
            "14\n",
            "21\n",
            "28\n",
            "35\n",
            "42\n",
            "49\n",
            "56\n",
            "63\n",
            "70\n",
            "77\n",
            "84\n",
            "The loop ended\n"
          ]
        }
      ]
    },
    {
      "cell_type": "markdown",
      "source": [
        "Challenge"
      ],
      "metadata": {
        "id": "0nM9ZzBpRf7q"
      }
    },
    {
      "cell_type": "code",
      "source": [
        "num = 1\n",
        "trial = int(input(\"Input a integer \"))\n",
        "\n",
        "while num <= trial:\n",
        "  print(num * num * num)\n",
        "  num +=1\n",
        "\n",
        "print(\"Loop is down!\")"
      ],
      "metadata": {
        "colab": {
          "base_uri": "https://localhost:8080/"
        },
        "id": "xGGRypfAPx2j",
        "outputId": "416a09fe-d97a-4d9a-d52e-529dc94c9b73"
      },
      "execution_count": null,
      "outputs": [
        {
          "output_type": "stream",
          "name": "stdout",
          "text": [
            "Input a integer 9\n",
            "1\n",
            "8\n",
            "27\n",
            "64\n",
            "125\n",
            "216\n",
            "343\n",
            "512\n",
            "729\n",
            "Loop is down!\n"
          ]
        }
      ]
    },
    {
      "cell_type": "code",
      "source": [],
      "metadata": {
        "id": "PWNJ9gnxSXMB"
      },
      "execution_count": null,
      "outputs": []
    }
  ]
}