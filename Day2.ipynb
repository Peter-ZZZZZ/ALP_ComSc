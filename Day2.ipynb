{
  "nbformat": 4,
  "nbformat_minor": 0,
  "metadata": {
    "colab": {
      "provenance": [],
      "authorship_tag": "ABX9TyMTUEl8vyw+Og1YAhxUih2a",
      "include_colab_link": true
    },
    "kernelspec": {
      "name": "python3",
      "display_name": "Python 3"
    },
    "language_info": {
      "name": "python"
    }
  },
  "cells": [
    {
      "cell_type": "markdown",
      "metadata": {
        "id": "view-in-github",
        "colab_type": "text"
      },
      "source": [
        "<a href=\"https://colab.research.google.com/github/Peter-ZZZZZ/ALP_ComSc/blob/main/Day2.ipynb\" target=\"_parent\"><img src=\"https://colab.research.google.com/assets/colab-badge.svg\" alt=\"Open In Colab\"/></a>"
      ]
    },
    {
      "cell_type": "code",
      "execution_count": null,
      "metadata": {
        "colab": {
          "base_uri": "https://localhost:8080/"
        },
        "id": "-dBZbS-3-7IL",
        "outputId": "7cd3d0b1-8068-4be7-f27f-43decdaf3f0a"
      },
      "outputs": [
        {
          "output_type": "stream",
          "name": "stdout",
          "text": [
            "This code is inside the loop\n",
            "Counter is 2\n",
            "This code is inside the loop\n",
            "Counter is 3\n",
            "This code is inside the loop\n",
            "Counter is 4\n",
            "This code is inside the loop\n",
            "Counter is 5\n",
            "The loop is finished!\n"
          ]
        }
      ],
      "source": [
        "counter = 1\n",
        "\n",
        "while counter < 5:\n",
        "  print(\"This code is inside the loop\")\n",
        "  counter += 1\n",
        "  print(\"Counter is \" + str(counter))\n",
        "\n",
        "print(\"The loop is finished!\")"
      ]
    },
    {
      "cell_type": "code",
      "source": [
        "counter = int(input(\"Please input a interger \"))\n",
        "\n",
        "while counter > 0:\n",
        "  print(\"This code is inside the loop\")\n",
        "  counter -= 1\n",
        "  print(\"Counter is \" + str(counter))\n",
        "\n",
        "print(\"Blast off!\")"
      ],
      "metadata": {
        "colab": {
          "base_uri": "https://localhost:8080/"
        },
        "id": "5QM0ymf6DTIF",
        "outputId": "9dc97c74-0c59-4d41-80da-dfd3dd0a533c"
      },
      "execution_count": null,
      "outputs": [
        {
          "output_type": "stream",
          "name": "stdout",
          "text": [
            "Please input a interger 10\n",
            "This code is inside the loop\n",
            "Counter is 9\n",
            "This code is inside the loop\n",
            "Counter is 8\n",
            "This code is inside the loop\n",
            "Counter is 7\n",
            "This code is inside the loop\n",
            "Counter is 6\n",
            "This code is inside the loop\n",
            "Counter is 5\n",
            "This code is inside the loop\n",
            "Counter is 4\n",
            "This code is inside the loop\n",
            "Counter is 3\n",
            "This code is inside the loop\n",
            "Counter is 2\n",
            "This code is inside the loop\n",
            "Counter is 1\n",
            "This code is inside the loop\n",
            "Counter is 0\n",
            "Blast off!\n"
          ]
        }
      ]
    },
    {
      "cell_type": "markdown",
      "source": [
        "##Example 1"
      ],
      "metadata": {
        "id": "hwTpWnSxEGV8"
      }
    },
    {
      "cell_type": "code",
      "source": [
        "correctUserName = \"Dave\"\n",
        "\n",
        "userName = input((\"Please enter your username \")).lower\n",
        "\n",
        "while userName != correctUserName:\n",
        "  userName = input(\"Username incorrect, please try again.\")\n",
        "\n",
        "print(\"Username acccepted.\")"
      ],
      "metadata": {
        "colab": {
          "base_uri": "https://localhost:8080/"
        },
        "id": "krmcgIgiDg4E",
        "outputId": "620fd109-12a9-43c5-b7ee-410fb5f40592"
      },
      "execution_count": null,
      "outputs": [
        {
          "output_type": "stream",
          "name": "stdout",
          "text": [
            "Please enter your usernameDave\n",
            "Username incorrect, please try again.Dave\n",
            "Username acccepted.\n"
          ]
        }
      ]
    },
    {
      "cell_type": "markdown",
      "source": [
        "##Example 2"
      ],
      "metadata": {
        "id": "bUqUS5M9Exhw"
      }
    },
    {
      "cell_type": "code",
      "source": [
        "num1 = int(input(\"Enter a number between 1 and 10 \"))\n",
        "\n",
        "while num1 < 1 or num1 > 10:\n",
        "  num1 = int(input(\"Invalid number, please try again! \"))\n",
        "\n",
        "print(\"Input accepted.\")"
      ],
      "metadata": {
        "colab": {
          "base_uri": "https://localhost:8080/"
        },
        "id": "jLN9bGEmEVuu",
        "outputId": "296aca8b-6836-4d5b-d563-d5b39f5655b2"
      },
      "execution_count": null,
      "outputs": [
        {
          "output_type": "stream",
          "name": "stdout",
          "text": [
            "Enter a number between 1 and 10 12\n",
            "Invalid number, please try again! 2\n",
            "Input accepted.\n"
          ]
        }
      ]
    },
    {
      "cell_type": "markdown",
      "source": [
        "##Password Task"
      ],
      "metadata": {
        "id": "ySPKKHRFF_vf"
      }
    },
    {
      "cell_type": "code",
      "source": [
        "password = input(\"Please input a password \")\n",
        "checkpass = input(\"Please check your password \")\n",
        "while password != checkpass:\n",
        "  print(\"Password not the same!\")\n",
        "  checkpass = input(\"Please check your password \")\n",
        "\n",
        "print(\"Password succesfully created!\")"
      ],
      "metadata": {
        "colab": {
          "base_uri": "https://localhost:8080/"
        },
        "id": "UKzNNlRtFqRa",
        "outputId": "b0a4e052-c33e-4092-ffdd-3755ced9156e"
      },
      "execution_count": null,
      "outputs": [
        {
          "output_type": "stream",
          "name": "stdout",
          "text": [
            "Please input a password abcd12\n",
            "Please check your password adhjf\n",
            "Password not the same!\n",
            "Please check your password Abcd12\n",
            "Password not the same!\n",
            "Please check your password abcd12\n",
            "Password succesfully created!\n"
          ]
        }
      ]
    },
    {
      "cell_type": "markdown",
      "source": [
        "#Lists"
      ],
      "metadata": {
        "id": "g1Lov7vkKFDC"
      }
    },
    {
      "cell_type": "markdown",
      "source": [
        "##List Assignment1"
      ],
      "metadata": {
        "id": "T_hNutQvP4zh"
      }
    },
    {
      "cell_type": "code",
      "source": [
        "countries = [\"UK\", \"USA\", \"Chad\", \"Australia\", \"Thailand\"]\n",
        "\n",
        "countries[3] = \"Mexico\" #change Australia to Mexico in the list\n",
        "countries[0] = \"Iceland\" #change UK to Iceland in the list\n",
        "countries[1] = countries[4] #change USA to Thailand in the list\n",
        "\n",
        "print(countries)"
      ],
      "metadata": {
        "colab": {
          "base_uri": "https://localhost:8080/"
        },
        "id": "yI02P5okP74m",
        "outputId": "6c70cf0f-d20f-4e71-b324-ea7734179190"
      },
      "execution_count": 81,
      "outputs": [
        {
          "output_type": "stream",
          "name": "stdout",
          "text": [
            "['Iceland', 'Thailand', 'Chad', 'Mexico', 'Thailand']\n"
          ]
        }
      ]
    },
    {
      "cell_type": "markdown",
      "source": [
        "##List Assignment2"
      ],
      "metadata": {
        "id": "qgf8bUFkQmOi"
      }
    },
    {
      "cell_type": "code",
      "source": [
        "squareNumbers = [1, 4, 9, 16, 25, 36]\n",
        "\n",
        "squareNumbers[5] = 49 #change 36 to 49 in the list\n",
        "squareNumbers[0] += 1 #add 1 to the first element in the list(2)\n",
        "total= squareNumbers[3] - squareNumbers[1] #16 - 4 = 12\n",
        "print(squareNumbers)\n",
        "print(total)"
      ],
      "metadata": {
        "colab": {
          "base_uri": "https://localhost:8080/"
        },
        "id": "Eyz9muERQo06",
        "outputId": "fb5b2396-e09d-40c3-d657-78c123c8ae1d"
      },
      "execution_count": 82,
      "outputs": [
        {
          "output_type": "stream",
          "name": "stdout",
          "text": [
            "[2, 4, 9, 16, 25, 49]\n",
            "12\n"
          ]
        }
      ]
    },
    {
      "cell_type": "markdown",
      "source": [
        "##Task 2"
      ],
      "metadata": {
        "id": "fIeOn4XpLSI2"
      }
    },
    {
      "cell_type": "code",
      "source": [
        "fruit = [\"Apple\", \"Mango\", \"Grape\", \"Banana\", \"Strawberry\", \"Melon\", \"Orange\"]\n",
        "print(fruit)\n",
        "\n",
        "num = int(input(\"Please input a number from 1 to 6 \"))\n",
        "print(fruit[num])"
      ],
      "metadata": {
        "colab": {
          "base_uri": "https://localhost:8080/"
        },
        "id": "jPvmAssWGnuf",
        "outputId": "4ba220ad-a3f2-4d3b-dc40-05e2e85016ca"
      },
      "execution_count": null,
      "outputs": [
        {
          "output_type": "stream",
          "name": "stdout",
          "text": [
            "['Apple', 'Mango', 'Grape', 'Banana', 'Strawberry', 'Melon', 'Orange']\n",
            "Please input a number from 1 to 6 2\n",
            "Grape\n"
          ]
        }
      ]
    },
    {
      "cell_type": "markdown",
      "source": [
        "##Add and Remove task 1"
      ],
      "metadata": {
        "id": "3qVXEiMSN46F"
      }
    },
    {
      "cell_type": "code",
      "source": [
        "food = [\"bacon\", \"cheese\", \"pasta\", \"beans\"]\n",
        "food.append(\"tomatoes\")#added tomatoes at the end of the list\n",
        "food.insert(1, \"ice-cream\")#At index 1 inserted a ice-cream\n",
        "food.remove(\"cheese\")#cheese was removed\n",
        "food.pop()#beans was removed\n",
        "print(food)"
      ],
      "metadata": {
        "colab": {
          "base_uri": "https://localhost:8080/"
        },
        "id": "Dft39RFNLZJR",
        "outputId": "b729f997-1e70-462d-c794-b7f284f6faa7"
      },
      "execution_count": null,
      "outputs": [
        {
          "output_type": "stream",
          "name": "stdout",
          "text": [
            "['bacon', 'ice-cream', 'pasta', 'beans']\n"
          ]
        }
      ]
    },
    {
      "cell_type": "markdown",
      "source": [
        "##Zombie Challenge"
      ],
      "metadata": {
        "id": "H1hXeIrnPgHl"
      }
    },
    {
      "cell_type": "code",
      "source": [
        "weapons = [\"shotgun\", \"pistole\", \"rifle\", \"snipe\"]\n",
        "zombieWeakness = \"shotgun\"\n",
        "print(\"You're now encountered a zombie and prepare to fight!\")\n",
        "print(weapons)\n",
        "print(\"Type 1 to pick form the list and type 2 to pick your own\")\n",
        "choosen = int(input())\n",
        "if choosen == 1:\n",
        "  chose = int(input(\"Choose your weapon (0 represen shotgun and 1 is pistole and etc.)\"))\n",
        "  if chose == 0:\n",
        "    print(\"You pick shotgun and be ready to be ready to killed the zombie!\")\n",
        "    gun = \"shotgun\"\n",
        "  elif chose == 1:\n",
        "    print(\"You pick pistole and be ready to be ready to killed the zombie!\")\n",
        "    gun = \"pistole\"\n",
        "  elif chose == 2:\n",
        "    print(\"You pick rifle and be ready to be ready to killed the zombie!\")\n",
        "    gun = \"rifle\"\n",
        "  elif chose == 3:\n",
        "    print(\"You pick snipe and be ready to be ready to killed the zombie!\")\n",
        "    gun = \"snipe\"\n",
        "  else:\n",
        "    print(\"Ready to fight with your fist?\")\n",
        "    gun = \"fist\"\n",
        "elif choosen == 2:\n",
        "  insertWeapon = input(\"Name your weapon \")\n",
        "  weapons.append(insertWeapon)\n",
        "  print(weapons)\n",
        "  chose = int(input(\"Choose your weapon (0 represen shotgun and 1 is pistole and etc.)\"))\n",
        "  if chose == 0:\n",
        "    print(\"You pick shotgun and be ready to be ready to killed the zombie!\")\n",
        "    gun = \"shotgun\"\n",
        "  elif chose == 1:\n",
        "    print(\"You pick pistole and be ready to be ready to killed the zombie!\")\n",
        "    gun = \"pistole\"\n",
        "  elif chose == 2:\n",
        "    print(\"You pick rifle and be ready to be ready to killed the zombie!\")\n",
        "    gun = \"rifle\"\n",
        "  elif chose == 3:\n",
        "    print(\"You pick snipe and be ready to be ready to killed the zombie!\")\n",
        "    gun = \"snipe\"\n",
        "  elif chose == 4:\n",
        "    print(\"You pick \" + insertWeapon + \" and be ready to killed the zombie!\")\n",
        "    gun = insertWeapon\n",
        "  else:\n",
        "    print(\"Ready to fight with your fist?\")\n",
        "    gun = \"fist\"\n",
        "else:\n",
        "  print(\"Ready to fight with your fist?\")\n",
        "  gun = \"fist\"\n",
        "\n",
        "if gun == \"shotgun\":\n",
        "  print(\"You killed the zombie with \" + gun + \" and| you won!\")\n",
        "else:\n",
        "  print(\"You dead by chosing \" + gun + \" to kill a zombie you loser!\")"
      ],
      "metadata": {
        "colab": {
          "base_uri": "https://localhost:8080/"
        },
        "id": "6nyS6r3SOgtX",
        "outputId": "842f82a2-1cab-4aa7-d7cb-39010bf2a85c"
      },
      "execution_count": null,
      "outputs": [
        {
          "output_type": "stream",
          "name": "stdout",
          "text": [
            "You're now encountered a zombie and prepare to fight!\n",
            "['shotgun', 'pistole', 'rifle', 'snipe']\n",
            "Type 1 to pick form the list and type 2 to pick your own\n",
            "1\n",
            "Choose your weapon (0 represen shotgun and 1 is pistole and etc.)7\n",
            "Ready to fight with your fist?\n",
            "You dead by chosing fist to kill a zombie you loser!\n"
          ]
        }
      ]
    },
    {
      "cell_type": "markdown",
      "source": [
        "##Calculator challenge"
      ],
      "metadata": {
        "id": "SZcFh8v8X4gB"
      }
    },
    {
      "cell_type": "code",
      "source": [
        "\n",
        "num1 = int(input(\"Input a number \"))\n",
        "char = input(\"+ - * /  \")\n",
        "num2 = int(input(\"Input another number \"))\n",
        "def add(a, b):\n",
        "  finalnum = a + b\n",
        "  return finalnum\n",
        "def substract(a, b):\n",
        "  finalnum = a - b\n",
        "  return finalnum\n",
        "def multiply(a, b):\n",
        "  finalnum = a * b\n",
        "  return finalnum\n",
        "def divide(a, b):\n",
        "  finalnum = a / b\n",
        "  return finalnum\n",
        "if char == \"+\":\n",
        "  finalnum = add(num1, num2)\n",
        "  print(str(num1) + \" + \" + str(num2))\n",
        "  print(\"Your answer is \" + str(finalnum))\n",
        "elif char == \"-\":\n",
        "  finalnum = substract(num1, num2)\n",
        "  print(str(num1) + \" - \" + str(num2))\n",
        "  print(\"Your answer is \" + str(finalnum))\n",
        "elif char == \"*\":\n",
        "  finalnum = multiply(num1, num2)\n",
        "  print(str(num1) + \" * \" + str(num2))\n",
        "  print(\"Your answer is \" + str(finalnum))\n",
        "elif char == \"/\":\n",
        "  if num2 == 0:\n",
        "    print(\"Undefined\")\n",
        "    print(\"Your answer is undefined\")\n",
        "  else:\n",
        "    finalnum = divide(num1, num2)\n",
        "    print(str(num1) + \" / \" + str(num2))\n",
        "    print(\"Your answer is \" + str(finalnum))\n",
        "else:\n",
        "  print(\"Invalid operator\")"
      ],
      "metadata": {
        "colab": {
          "base_uri": "https://localhost:8080/"
        },
        "id": "-FJJcEQVRoW9",
        "outputId": "4f6fd750-ba2e-41fe-ce47-ad5e30d0e728"
      },
      "execution_count": null,
      "outputs": [
        {
          "output_type": "stream",
          "name": "stdout",
          "text": [
            "Input a number 452\n",
            "+ - * /  /\n",
            "Input another number 214\n",
            "452 / 214\n",
            "Your answer is 2.1121495327102804\n"
          ]
        }
      ]
    },
    {
      "cell_type": "markdown",
      "source": [
        "#RWA"
      ],
      "metadata": {
        "id": "H9ztbh9G4DTe"
      }
    },
    {
      "cell_type": "markdown",
      "source": [
        "##Read"
      ],
      "metadata": {
        "id": "RO5JT8SL4Or2"
      }
    },
    {
      "cell_type": "code",
      "source": [
        "myFile = open(\"test.txt\", \"r\")\n",
        "\n",
        "for line in myFile:\n",
        "  print(line)\n",
        "myFile.close()"
      ],
      "metadata": {
        "id": "hD0Qpv1wbP8D"
      },
      "execution_count": null,
      "outputs": []
    },
    {
      "cell_type": "markdown",
      "source": [
        "#Write"
      ],
      "metadata": {
        "id": "HI5PgpYs4QSM"
      }
    },
    {
      "cell_type": "code",
      "source": [
        "myFile = open(\"test.txt\", \"w\")\n",
        "myFile.write(\"Hello World\")\n",
        "myFile.close()"
      ],
      "metadata": {
        "id": "VbTHOfkM4RmV"
      },
      "execution_count": null,
      "outputs": []
    },
    {
      "cell_type": "markdown",
      "source": [
        "##Append"
      ],
      "metadata": {
        "id": "W5eDGZLc4vUq"
      }
    },
    {
      "cell_type": "code",
      "source": [
        "myFile = open(\"test.txt\", \"a\")\n",
        "myFile.write(\"How are you?\")\n",
        "myFile.close()"
      ],
      "metadata": {
        "colab": {
          "base_uri": "https://localhost:8080/"
        },
        "id": "fnAKRor14xpZ",
        "outputId": "410c3203-d04e-4084-bd2e-b3692ce9e45f"
      },
      "execution_count": null,
      "outputs": [
        {
          "output_type": "execute_result",
          "data": {
            "text/plain": [
              "<function TextIOWrapper.close()>"
            ]
          },
          "metadata": {},
          "execution_count": 70
        }
      ]
    },
    {
      "cell_type": "markdown",
      "source": [
        "##Function"
      ],
      "metadata": {
        "id": "QnPtqLaf6ZiW"
      }
    },
    {
      "cell_type": "code",
      "source": [
        "def paragraph(words):\n",
        "  myFile = open(\"test.txt\", \"a\")\n",
        "  myFile.write(\"\\n\")\n",
        "  myFile.write(words)\n",
        "  myFile.write(text)\n",
        "  myFile.close()\n",
        "text = \"Often, programmers fall in love with Python because of the increased productivity it provides. Since there is no compilation step, the edit-test-debug cycle is incredibly fast. Debugging Python programs is easy: a bug or bad input will never cause a segmentation fault. Instead, when the interpreter discovers an error, it raises an exception. When the program doesn't catch the exception, the interpreter prints a stack trace. A source level debugger allows inspection of local and global variables, evaluation of arbitrary expressions, setting breakpoints, stepping through the code a line at a time, and so on. The debugger is written in Python itself, testifying to Python's introspective power. On the other hand, often the quickest way to debug a program is to add a few print statements to the source: the fast edit-test-debug cycle makes this simple approach very effective.\"\n",
        "text2 = \"This a different text\"\n",
        "paragraph(text2)"
      ],
      "metadata": {
        "id": "3vweJ8Ca6Do4"
      },
      "execution_count": 78,
      "outputs": []
    },
    {
      "cell_type": "markdown",
      "source": [
        "#FOR LOOPS"
      ],
      "metadata": {
        "id": "Tm9jplgm-Lxc"
      }
    },
    {
      "cell_type": "code",
      "source": [
        "for i in range(5):\n",
        "  print(i)"
      ],
      "metadata": {
        "colab": {
          "base_uri": "https://localhost:8080/"
        },
        "id": "1hMeae4Y-Lfd",
        "outputId": "58e8b384-f0e1-4e2c-df69-319f5cf378b4"
      },
      "execution_count": 79,
      "outputs": [
        {
          "output_type": "stream",
          "name": "stdout",
          "text": [
            "0\n",
            "1\n",
            "2\n",
            "3\n",
            "4\n"
          ]
        }
      ]
    }
  ]
}